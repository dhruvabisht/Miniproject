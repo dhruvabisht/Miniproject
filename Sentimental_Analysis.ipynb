{
 "cells": [
  {
   "cell_type": "code",
   "execution_count": 1,
   "id": "45956e49",
   "metadata": {},
   "outputs": [],
   "source": [
    "import tweepy\n",
    "from textblob import TextBlob\n",
    "import pandas as pd\n",
    "import numpy as np\n",
    "import re\n",
    "import matplotlib.pyplot as plt"
   ]
  },
  {
   "cell_type": "code",
   "execution_count": 2,
   "id": "ea238c60",
   "metadata": {},
   "outputs": [],
   "source": [
    "config = pd.read_csv(\"./config.csv\")"
   ]
  },
  {
   "cell_type": "code",
   "execution_count": 3,
   "id": "5b8f2745",
   "metadata": {},
   "outputs": [],
   "source": [
    "twitterApiKey= config['twitterApiKey'][0]\n",
    "twitterApiSecret= config['twitterApiSecret'][0]\n",
    "twitterApiAccessToken=config['twitterApiAccessToken'][0]\n",
    "twitterApiAccessTokenSecret=config['twitterApiAccessTokenSecret'][0]"
   ]
  },
  {
   "cell_type": "code",
   "execution_count": 4,
   "id": "1c8cd93d",
   "metadata": {},
   "outputs": [],
   "source": [
    "auth=tweepy.OAuthHandler(twitterApiKey,twitterApiSecret)\n",
    "auth.set_access_token(twitterApiAccessToken,twitterApiAccessTokenSecret)\n",
    "twitterApi = tweepy.API(auth,wait_on_rate_limit=True)"
   ]
  },
  {
   "cell_type": "code",
   "execution_count": 5,
   "id": "dafb0754",
   "metadata": {},
   "outputs": [],
   "source": [
    "twitterAccount = \"KamalaHarris\""
   ]
  },
  {
   "cell_type": "code",
   "execution_count": 6,
   "id": "91878dbe",
   "metadata": {},
   "outputs": [],
   "source": [
    "tweets = tweepy.Cursor(twitterApi.user_timeline,\n",
    "                       screen_name=twitterAccount,\n",
    "                       count=None,\n",
    "                       since_id=None,\n",
    "                       max_id=None,trim_user=True,exclude_replies=True,contributor_details=False,\n",
    "                       include_entities=False).items(100);"
   ]
  },
  {
   "cell_type": "code",
   "execution_count": 7,
   "id": "513b8235",
   "metadata": {},
   "outputs": [],
   "source": [
    "#Creating a Datframe using the Tweets \n",
    "df = pd.DataFrame(data=[tweet.text for tweet in tweets],columns=['Tweet'])"
   ]
  },
  {
   "cell_type": "code",
   "execution_count": 8,
   "id": "4df69962",
   "metadata": {},
   "outputs": [
    {
     "data": {
      "text/html": [
       "<div>\n",
       "<style scoped>\n",
       "    .dataframe tbody tr th:only-of-type {\n",
       "        vertical-align: middle;\n",
       "    }\n",
       "\n",
       "    .dataframe tbody tr th {\n",
       "        vertical-align: top;\n",
       "    }\n",
       "\n",
       "    .dataframe thead th {\n",
       "        text-align: right;\n",
       "    }\n",
       "</style>\n",
       "<table border=\"1\" class=\"dataframe\">\n",
       "  <thead>\n",
       "    <tr style=\"text-align: right;\">\n",
       "      <th></th>\n",
       "      <th>Tweet</th>\n",
       "    </tr>\n",
       "  </thead>\n",
       "  <tbody>\n",
       "    <tr>\n",
       "      <th>0</th>\n",
       "      <td>RT @WhiteHouse: COVID-19 hit millions of small...</td>\n",
       "    </tr>\n",
       "    <tr>\n",
       "      <th>1</th>\n",
       "      <td>RT @VP: An investment in education is an inves...</td>\n",
       "    </tr>\n",
       "    <tr>\n",
       "      <th>2</th>\n",
       "      <td>The American Jobs Plan will put Americans to w...</td>\n",
       "    </tr>\n",
       "    <tr>\n",
       "      <th>3</th>\n",
       "      <td>Tell your friends, your aunties and uncles, yo...</td>\n",
       "    </tr>\n",
       "    <tr>\n",
       "      <th>4</th>\n",
       "      <td>RT @VP: Congratulations to our daughter Ella o...</td>\n",
       "    </tr>\n",
       "  </tbody>\n",
       "</table>\n",
       "</div>"
      ],
      "text/plain": [
       "                                               Tweet\n",
       "0  RT @WhiteHouse: COVID-19 hit millions of small...\n",
       "1  RT @VP: An investment in education is an inves...\n",
       "2  The American Jobs Plan will put Americans to w...\n",
       "3  Tell your friends, your aunties and uncles, yo...\n",
       "4  RT @VP: Congratulations to our daughter Ella o..."
      ]
     },
     "execution_count": 8,
     "metadata": {},
     "output_type": "execute_result"
    }
   ],
   "source": [
    "df.head()"
   ]
  },
  {
   "cell_type": "code",
   "execution_count": 9,
   "id": "36c09a83",
   "metadata": {},
   "outputs": [],
   "source": [
    "#Function to Remove Mentions, Retweets , Urls and Hastags \n",
    "def Clean(text):    \n",
    "        text = re.compile('\\#').sub('', re.compile('RT @').sub('@', str(text), count=1).strip())\n",
    "        text = ' '.join(re.sub(\"(@[A-Za-z0-9]+)|([^0-9A-Za-z \\t])|(\\w+:\\/\\/\\S+)\",\" \",str(text)).split())\n",
    "        return text"
   ]
  },
  {
   "cell_type": "code",
   "execution_count": 10,
   "id": "aacf236d",
   "metadata": {},
   "outputs": [],
   "source": [
    "df['Tweet']=df['Tweet'].apply(Clean)"
   ]
  },
  {
   "cell_type": "code",
   "execution_count": 11,
   "id": "95a54ed0",
   "metadata": {},
   "outputs": [
    {
     "data": {
      "text/html": [
       "<div>\n",
       "<style scoped>\n",
       "    .dataframe tbody tr th:only-of-type {\n",
       "        vertical-align: middle;\n",
       "    }\n",
       "\n",
       "    .dataframe tbody tr th {\n",
       "        vertical-align: top;\n",
       "    }\n",
       "\n",
       "    .dataframe thead th {\n",
       "        text-align: right;\n",
       "    }\n",
       "</style>\n",
       "<table border=\"1\" class=\"dataframe\">\n",
       "  <thead>\n",
       "    <tr style=\"text-align: right;\">\n",
       "      <th></th>\n",
       "      <th>Tweet</th>\n",
       "    </tr>\n",
       "  </thead>\n",
       "  <tbody>\n",
       "    <tr>\n",
       "      <th>0</th>\n",
       "      <td>COVID 19 hit millions of small businesses hard...</td>\n",
       "    </tr>\n",
       "    <tr>\n",
       "      <th>1</th>\n",
       "      <td>An investment in education is an investment in...</td>\n",
       "    </tr>\n",
       "    <tr>\n",
       "      <th>2</th>\n",
       "      <td>The American Jobs Plan will put Americans to w...</td>\n",
       "    </tr>\n",
       "    <tr>\n",
       "      <th>3</th>\n",
       "      <td>Tell your friends your aunties and uncles your...</td>\n",
       "    </tr>\n",
       "    <tr>\n",
       "      <th>4</th>\n",
       "      <td>Congratulations to our daughter Ella on her gr...</td>\n",
       "    </tr>\n",
       "    <tr>\n",
       "      <th>5</th>\n",
       "      <td>More than one third of people who live in rura...</td>\n",
       "    </tr>\n",
       "    <tr>\n",
       "      <th>6</th>\n",
       "      <td>This was made possible by the extraordinary su...</td>\n",
       "    </tr>\n",
       "    <tr>\n",
       "      <th>7</th>\n",
       "      <td>Big news from the CDC If you re fully vaccinat...</td>\n",
       "    </tr>\n",
       "    <tr>\n",
       "      <th>8</th>\n",
       "      <td>Get vaccinated not just for yourself but for y...</td>\n",
       "    </tr>\n",
       "    <tr>\n",
       "      <th>9</th>\n",
       "      <td>Women particularly women of color and trans wo...</td>\n",
       "    </tr>\n",
       "  </tbody>\n",
       "</table>\n",
       "</div>"
      ],
      "text/plain": [
       "                                               Tweet\n",
       "0  COVID 19 hit millions of small businesses hard...\n",
       "1  An investment in education is an investment in...\n",
       "2  The American Jobs Plan will put Americans to w...\n",
       "3  Tell your friends your aunties and uncles your...\n",
       "4  Congratulations to our daughter Ella on her gr...\n",
       "5  More than one third of people who live in rura...\n",
       "6  This was made possible by the extraordinary su...\n",
       "7  Big news from the CDC If you re fully vaccinat...\n",
       "8  Get vaccinated not just for yourself but for y...\n",
       "9  Women particularly women of color and trans wo..."
      ]
     },
     "execution_count": 11,
     "metadata": {},
     "output_type": "execute_result"
    }
   ],
   "source": [
    "df.head(10)"
   ]
  },
  {
   "cell_type": "code",
   "execution_count": 12,
   "id": "08002d0a",
   "metadata": {},
   "outputs": [],
   "source": [
    "#Function to get Ploarity of Tweets\n",
    "def getTextPolarity(txt):\n",
    "    return TextBlob(txt).sentiment.polarity"
   ]
  },
  {
   "cell_type": "code",
   "execution_count": 13,
   "id": "02c78edc",
   "metadata": {},
   "outputs": [],
   "source": [
    "#Fuction to get the Subjectivity of Tweets\n",
    "def getTextSubjectivity(txt):\n",
    "    return TextBlob(txt).sentiment.subjectivity"
   ]
  },
  {
   "cell_type": "code",
   "execution_count": 14,
   "id": "3bd2db04",
   "metadata": {},
   "outputs": [],
   "source": [
    "#Applying the above functions to my Data Frame\n",
    "df['Subjectivity']=df['Tweet'].apply(getTextSubjectivity)\n",
    "df['Polarity']=df['Tweet'].apply(getTextPolarity)"
   ]
  },
  {
   "cell_type": "code",
   "execution_count": 15,
   "id": "5f39d3da",
   "metadata": {},
   "outputs": [
    {
     "data": {
      "text/html": [
       "<div>\n",
       "<style scoped>\n",
       "    .dataframe tbody tr th:only-of-type {\n",
       "        vertical-align: middle;\n",
       "    }\n",
       "\n",
       "    .dataframe tbody tr th {\n",
       "        vertical-align: top;\n",
       "    }\n",
       "\n",
       "    .dataframe thead th {\n",
       "        text-align: right;\n",
       "    }\n",
       "</style>\n",
       "<table border=\"1\" class=\"dataframe\">\n",
       "  <thead>\n",
       "    <tr style=\"text-align: right;\">\n",
       "      <th></th>\n",
       "      <th>Tweet</th>\n",
       "      <th>Subjectivity</th>\n",
       "      <th>Polarity</th>\n",
       "    </tr>\n",
       "  </thead>\n",
       "  <tbody>\n",
       "    <tr>\n",
       "      <th>0</th>\n",
       "      <td>COVID 19 hit millions of small businesses hard...</td>\n",
       "      <td>0.480556</td>\n",
       "      <td>-0.013889</td>\n",
       "    </tr>\n",
       "    <tr>\n",
       "      <th>1</th>\n",
       "      <td>An investment in education is an investment in...</td>\n",
       "      <td>0.041667</td>\n",
       "      <td>0.000000</td>\n",
       "    </tr>\n",
       "    <tr>\n",
       "      <th>2</th>\n",
       "      <td>The American Jobs Plan will put Americans to w...</td>\n",
       "      <td>0.000000</td>\n",
       "      <td>0.000000</td>\n",
       "    </tr>\n",
       "    <tr>\n",
       "      <th>3</th>\n",
       "      <td>Tell your friends your aunties and uncles your...</td>\n",
       "      <td>0.000000</td>\n",
       "      <td>0.000000</td>\n",
       "    </tr>\n",
       "    <tr>\n",
       "      <th>4</th>\n",
       "      <td>Congratulations to our daughter Ella on her gr...</td>\n",
       "      <td>1.000000</td>\n",
       "      <td>0.800000</td>\n",
       "    </tr>\n",
       "    <tr>\n",
       "      <th>5</th>\n",
       "      <td>More than one third of people who live in rura...</td>\n",
       "      <td>0.256667</td>\n",
       "      <td>0.132727</td>\n",
       "    </tr>\n",
       "    <tr>\n",
       "      <th>6</th>\n",
       "      <td>This was made possible by the extraordinary su...</td>\n",
       "      <td>0.600000</td>\n",
       "      <td>0.293333</td>\n",
       "    </tr>\n",
       "    <tr>\n",
       "      <th>7</th>\n",
       "      <td>Big news from the CDC If you re fully vaccinat...</td>\n",
       "      <td>0.300000</td>\n",
       "      <td>0.250000</td>\n",
       "    </tr>\n",
       "    <tr>\n",
       "      <th>8</th>\n",
       "      <td>Get vaccinated not just for yourself but for y...</td>\n",
       "      <td>0.000000</td>\n",
       "      <td>0.000000</td>\n",
       "    </tr>\n",
       "    <tr>\n",
       "      <th>9</th>\n",
       "      <td>Women particularly women of color and trans wo...</td>\n",
       "      <td>0.366667</td>\n",
       "      <td>0.058333</td>\n",
       "    </tr>\n",
       "  </tbody>\n",
       "</table>\n",
       "</div>"
      ],
      "text/plain": [
       "                                               Tweet  Subjectivity  Polarity\n",
       "0  COVID 19 hit millions of small businesses hard...      0.480556 -0.013889\n",
       "1  An investment in education is an investment in...      0.041667  0.000000\n",
       "2  The American Jobs Plan will put Americans to w...      0.000000  0.000000\n",
       "3  Tell your friends your aunties and uncles your...      0.000000  0.000000\n",
       "4  Congratulations to our daughter Ella on her gr...      1.000000  0.800000\n",
       "5  More than one third of people who live in rura...      0.256667  0.132727\n",
       "6  This was made possible by the extraordinary su...      0.600000  0.293333\n",
       "7  Big news from the CDC If you re fully vaccinat...      0.300000  0.250000\n",
       "8  Get vaccinated not just for yourself but for y...      0.000000  0.000000\n",
       "9  Women particularly women of color and trans wo...      0.366667  0.058333"
      ]
     },
     "execution_count": 15,
     "metadata": {},
     "output_type": "execute_result"
    }
   ],
   "source": [
    "df.head(10)"
   ]
  },
  {
   "cell_type": "code",
   "execution_count": 16,
   "id": "5efe6fa7",
   "metadata": {},
   "outputs": [],
   "source": [
    "df = df.drop(df[df['Tweet']==''].index)"
   ]
  },
  {
   "cell_type": "code",
   "execution_count": 17,
   "id": "0d86e1d5",
   "metadata": {},
   "outputs": [
    {
     "data": {
      "text/html": [
       "<div>\n",
       "<style scoped>\n",
       "    .dataframe tbody tr th:only-of-type {\n",
       "        vertical-align: middle;\n",
       "    }\n",
       "\n",
       "    .dataframe tbody tr th {\n",
       "        vertical-align: top;\n",
       "    }\n",
       "\n",
       "    .dataframe thead th {\n",
       "        text-align: right;\n",
       "    }\n",
       "</style>\n",
       "<table border=\"1\" class=\"dataframe\">\n",
       "  <thead>\n",
       "    <tr style=\"text-align: right;\">\n",
       "      <th></th>\n",
       "      <th>Tweet</th>\n",
       "      <th>Subjectivity</th>\n",
       "      <th>Polarity</th>\n",
       "    </tr>\n",
       "  </thead>\n",
       "  <tbody>\n",
       "    <tr>\n",
       "      <th>0</th>\n",
       "      <td>COVID 19 hit millions of small businesses hard...</td>\n",
       "      <td>0.480556</td>\n",
       "      <td>-0.013889</td>\n",
       "    </tr>\n",
       "    <tr>\n",
       "      <th>1</th>\n",
       "      <td>An investment in education is an investment in...</td>\n",
       "      <td>0.041667</td>\n",
       "      <td>0.000000</td>\n",
       "    </tr>\n",
       "    <tr>\n",
       "      <th>2</th>\n",
       "      <td>The American Jobs Plan will put Americans to w...</td>\n",
       "      <td>0.000000</td>\n",
       "      <td>0.000000</td>\n",
       "    </tr>\n",
       "    <tr>\n",
       "      <th>3</th>\n",
       "      <td>Tell your friends your aunties and uncles your...</td>\n",
       "      <td>0.000000</td>\n",
       "      <td>0.000000</td>\n",
       "    </tr>\n",
       "    <tr>\n",
       "      <th>4</th>\n",
       "      <td>Congratulations to our daughter Ella on her gr...</td>\n",
       "      <td>1.000000</td>\n",
       "      <td>0.800000</td>\n",
       "    </tr>\n",
       "    <tr>\n",
       "      <th>5</th>\n",
       "      <td>More than one third of people who live in rura...</td>\n",
       "      <td>0.256667</td>\n",
       "      <td>0.132727</td>\n",
       "    </tr>\n",
       "    <tr>\n",
       "      <th>6</th>\n",
       "      <td>This was made possible by the extraordinary su...</td>\n",
       "      <td>0.600000</td>\n",
       "      <td>0.293333</td>\n",
       "    </tr>\n",
       "    <tr>\n",
       "      <th>7</th>\n",
       "      <td>Big news from the CDC If you re fully vaccinat...</td>\n",
       "      <td>0.300000</td>\n",
       "      <td>0.250000</td>\n",
       "    </tr>\n",
       "    <tr>\n",
       "      <th>8</th>\n",
       "      <td>Get vaccinated not just for yourself but for y...</td>\n",
       "      <td>0.000000</td>\n",
       "      <td>0.000000</td>\n",
       "    </tr>\n",
       "    <tr>\n",
       "      <th>9</th>\n",
       "      <td>Women particularly women of color and trans wo...</td>\n",
       "      <td>0.366667</td>\n",
       "      <td>0.058333</td>\n",
       "    </tr>\n",
       "  </tbody>\n",
       "</table>\n",
       "</div>"
      ],
      "text/plain": [
       "                                               Tweet  Subjectivity  Polarity\n",
       "0  COVID 19 hit millions of small businesses hard...      0.480556 -0.013889\n",
       "1  An investment in education is an investment in...      0.041667  0.000000\n",
       "2  The American Jobs Plan will put Americans to w...      0.000000  0.000000\n",
       "3  Tell your friends your aunties and uncles your...      0.000000  0.000000\n",
       "4  Congratulations to our daughter Ella on her gr...      1.000000  0.800000\n",
       "5  More than one third of people who live in rura...      0.256667  0.132727\n",
       "6  This was made possible by the extraordinary su...      0.600000  0.293333\n",
       "7  Big news from the CDC If you re fully vaccinat...      0.300000  0.250000\n",
       "8  Get vaccinated not just for yourself but for y...      0.000000  0.000000\n",
       "9  Women particularly women of color and trans wo...      0.366667  0.058333"
      ]
     },
     "execution_count": 17,
     "metadata": {},
     "output_type": "execute_result"
    }
   ],
   "source": [
    "df.head(10)"
   ]
  },
  {
   "cell_type": "code",
   "execution_count": 18,
   "id": "88b0b5a2",
   "metadata": {},
   "outputs": [],
   "source": [
    "#Function to return the strings for Score\n",
    "def getTextAnalysis(a):\n",
    "    if a<0:\n",
    "        return \"Negative\"\n",
    "    elif a==0:\n",
    "        return \"Neutral\"\n",
    "    else:\n",
    "        return \"Positive\""
   ]
  },
  {
   "cell_type": "code",
   "execution_count": 19,
   "id": "b4c20615",
   "metadata": {},
   "outputs": [],
   "source": [
    "df[\"Score\"]=df['Polarity'].apply(getTextAnalysis)"
   ]
  },
  {
   "cell_type": "code",
   "execution_count": 20,
   "id": "eb303ffa",
   "metadata": {},
   "outputs": [
    {
     "data": {
      "text/html": [
       "<div>\n",
       "<style scoped>\n",
       "    .dataframe tbody tr th:only-of-type {\n",
       "        vertical-align: middle;\n",
       "    }\n",
       "\n",
       "    .dataframe tbody tr th {\n",
       "        vertical-align: top;\n",
       "    }\n",
       "\n",
       "    .dataframe thead th {\n",
       "        text-align: right;\n",
       "    }\n",
       "</style>\n",
       "<table border=\"1\" class=\"dataframe\">\n",
       "  <thead>\n",
       "    <tr style=\"text-align: right;\">\n",
       "      <th></th>\n",
       "      <th>Tweet</th>\n",
       "      <th>Subjectivity</th>\n",
       "      <th>Polarity</th>\n",
       "      <th>Score</th>\n",
       "    </tr>\n",
       "  </thead>\n",
       "  <tbody>\n",
       "    <tr>\n",
       "      <th>0</th>\n",
       "      <td>COVID 19 hit millions of small businesses hard...</td>\n",
       "      <td>0.480556</td>\n",
       "      <td>-0.013889</td>\n",
       "      <td>Negative</td>\n",
       "    </tr>\n",
       "    <tr>\n",
       "      <th>1</th>\n",
       "      <td>An investment in education is an investment in...</td>\n",
       "      <td>0.041667</td>\n",
       "      <td>0.000000</td>\n",
       "      <td>Neutral</td>\n",
       "    </tr>\n",
       "    <tr>\n",
       "      <th>2</th>\n",
       "      <td>The American Jobs Plan will put Americans to w...</td>\n",
       "      <td>0.000000</td>\n",
       "      <td>0.000000</td>\n",
       "      <td>Neutral</td>\n",
       "    </tr>\n",
       "    <tr>\n",
       "      <th>3</th>\n",
       "      <td>Tell your friends your aunties and uncles your...</td>\n",
       "      <td>0.000000</td>\n",
       "      <td>0.000000</td>\n",
       "      <td>Neutral</td>\n",
       "    </tr>\n",
       "    <tr>\n",
       "      <th>4</th>\n",
       "      <td>Congratulations to our daughter Ella on her gr...</td>\n",
       "      <td>1.000000</td>\n",
       "      <td>0.800000</td>\n",
       "      <td>Positive</td>\n",
       "    </tr>\n",
       "    <tr>\n",
       "      <th>5</th>\n",
       "      <td>More than one third of people who live in rura...</td>\n",
       "      <td>0.256667</td>\n",
       "      <td>0.132727</td>\n",
       "      <td>Positive</td>\n",
       "    </tr>\n",
       "    <tr>\n",
       "      <th>6</th>\n",
       "      <td>This was made possible by the extraordinary su...</td>\n",
       "      <td>0.600000</td>\n",
       "      <td>0.293333</td>\n",
       "      <td>Positive</td>\n",
       "    </tr>\n",
       "    <tr>\n",
       "      <th>7</th>\n",
       "      <td>Big news from the CDC If you re fully vaccinat...</td>\n",
       "      <td>0.300000</td>\n",
       "      <td>0.250000</td>\n",
       "      <td>Positive</td>\n",
       "    </tr>\n",
       "    <tr>\n",
       "      <th>8</th>\n",
       "      <td>Get vaccinated not just for yourself but for y...</td>\n",
       "      <td>0.000000</td>\n",
       "      <td>0.000000</td>\n",
       "      <td>Neutral</td>\n",
       "    </tr>\n",
       "    <tr>\n",
       "      <th>9</th>\n",
       "      <td>Women particularly women of color and trans wo...</td>\n",
       "      <td>0.366667</td>\n",
       "      <td>0.058333</td>\n",
       "      <td>Positive</td>\n",
       "    </tr>\n",
       "  </tbody>\n",
       "</table>\n",
       "</div>"
      ],
      "text/plain": [
       "                                               Tweet  Subjectivity  Polarity  \\\n",
       "0  COVID 19 hit millions of small businesses hard...      0.480556 -0.013889   \n",
       "1  An investment in education is an investment in...      0.041667  0.000000   \n",
       "2  The American Jobs Plan will put Americans to w...      0.000000  0.000000   \n",
       "3  Tell your friends your aunties and uncles your...      0.000000  0.000000   \n",
       "4  Congratulations to our daughter Ella on her gr...      1.000000  0.800000   \n",
       "5  More than one third of people who live in rura...      0.256667  0.132727   \n",
       "6  This was made possible by the extraordinary su...      0.600000  0.293333   \n",
       "7  Big news from the CDC If you re fully vaccinat...      0.300000  0.250000   \n",
       "8  Get vaccinated not just for yourself but for y...      0.000000  0.000000   \n",
       "9  Women particularly women of color and trans wo...      0.366667  0.058333   \n",
       "\n",
       "      Score  \n",
       "0  Negative  \n",
       "1   Neutral  \n",
       "2   Neutral  \n",
       "3   Neutral  \n",
       "4  Positive  \n",
       "5  Positive  \n",
       "6  Positive  \n",
       "7  Positive  \n",
       "8   Neutral  \n",
       "9  Positive  "
      ]
     },
     "execution_count": 20,
     "metadata": {},
     "output_type": "execute_result"
    }
   ],
   "source": [
    "df.head(10)"
   ]
  },
  {
   "cell_type": "code",
   "execution_count": 21,
   "id": "90aeb202",
   "metadata": {},
   "outputs": [
    {
     "name": "stdout",
     "output_type": "stream",
     "text": [
      "50.0% of tweets are Positive.\n"
     ]
    }
   ],
   "source": [
    "#Calculating Percentage of Positive Tweets\n",
    "positive= df[df['Score']==\"Positive\"]\n",
    "print(str(positive.shape[0]/(df.shape[0])*100)+\"% of tweets are Positive.\")\n",
    "pos=positive.shape[0]/df.shape[0]*100"
   ]
  },
  {
   "cell_type": "code",
   "execution_count": 22,
   "id": "e4601192",
   "metadata": {},
   "outputs": [
    {
     "name": "stdout",
     "output_type": "stream",
     "text": [
      "12.0% of tweets are Negative.\n"
     ]
    }
   ],
   "source": [
    "#Calculating Percentage of Neagtive Tweets\n",
    "negative= df[df['Score']==\"Negative\"]\n",
    "print(str(negative.shape[0]/(df.shape[0])*100)+\"% of tweets are Negative.\")\n",
    "neg=negative.shape[0]/df.shape[0]*100"
   ]
  },
  {
   "cell_type": "code",
   "execution_count": 23,
   "id": "904adc59",
   "metadata": {},
   "outputs": [
    {
     "name": "stdout",
     "output_type": "stream",
     "text": [
      "38.0% of tweets are Neutral.\n"
     ]
    }
   ],
   "source": [
    "#Calculating Percentage of Neutral Tweets\n",
    "neutral= df[df['Score']==\"Neutral\"]\n",
    "print(str(neutral.shape[0]/(df.shape[0])*100)+\"% of tweets are Neutral.\")\n",
    "neutrall=neutral.shape[0]/df.shape[0]*100"
   ]
  },
  {
   "cell_type": "code",
   "execution_count": 24,
   "id": "c43cfc44",
   "metadata": {},
   "outputs": [],
   "source": [
    "#Plotting a Pie Chart to show Positive, Negative and Neutral Tweet Percentage\n",
    "explode=(0,0.1,0)\n",
    "labels='Positive','Negative','Neutral'\n",
    "sizes=[pos,neg,neutrall]\n",
    "colors=['yellowgreen','lightcoral','gold']"
   ]
  },
  {
   "cell_type": "code",
   "execution_count": 25,
   "id": "745fd75d",
   "metadata": {},
   "outputs": [
    {
     "data": {
      "text/plain": [
       "Text(0.5, 1.0, 'Pie Chart For Tweet Percentages')"
      ]
     },
     "execution_count": 25,
     "metadata": {},
     "output_type": "execute_result"
    },
    {
     "data": {
      "image/png": "[encoded data removed]",
      "text/plain": [
       "<Figure size 432x288 with 1 Axes>"
      ]
     },
     "metadata": {},
     "output_type": "display_data"
    }
   ],
   "source": [
    "plt.pie(sizes,explode,colors=colors,autopct='%1.1f%%',startangle=90)\n",
    "plt.legend(labels,loc=(-0.05,0.05),shadow=True)\n",
    "plt.axis('equal')\n",
    "plt.title(\"Pie Chart For Tweet Percentages\")"
   ]
  },
  {
   "cell_type": "code",
   "execution_count": 26,
   "id": "a9076b46",
   "metadata": {},
   "outputs": [
    {
     "data": {
      "text/plain": [
       "<BarContainer object of 3 artists>"
      ]
     },
     "execution_count": 26,
     "metadata": {},
     "output_type": "execute_result"
    },
    {
     "data": {
      "image/png": "[encoded data removed]",
      "text/plain": [
       "<Figure size 432x288 with 1 Axes>"
      ]
     },
     "metadata": {
      "needs_background": "light"
     },
     "output_type": "display_data"
    }
   ],
   "source": [
    "#bar graph\n",
    "labels = 'Positive','Negative','Neutral'\n",
    "plt.title(\"Bar Graph For Tweet Percentages\")\n",
    "plt.ylabel(\"Number Of Tweets\")\n",
    "plt.bar(labels, sizes, color=colors)"
   ]
  },
  {
   "cell_type": "code",
   "execution_count": 27,
   "id": "7960be84",
   "metadata": {},
   "outputs": [
    {
     "data": {
      "image/png": "[encoded data removed]",
      "text/plain": [
       "<Figure size 432x288 with 1 Axes>"
      ]
     },
     "metadata": {
      "needs_background": "light"
     },
     "output_type": "display_data"
    }
   ],
   "source": [
    "#Plotting a Scatter graph between Subjectivity and Polarity\n",
    "for index, row in df.iterrows():\n",
    "    if row['Score']=='Positive':\n",
    "        plt.scatter(row['Polarity'],row['Subjectivity'],color='green')\n",
    "    elif row['Score']=='Negative':\n",
    "        plt.scatter(row['Polarity'],row['Subjectivity'],color='red')\n",
    "    elif row['Score']=='Neutral':\n",
    "        plt.scatter(row['Polarity'],row['Subjectivity'],color='blue')  \n",
    "\n",
    "plt.title('Twitter Sentimental Analysis')\n",
    "plt.xlabel('Ploarity')\n",
    "plt.ylabel('Subjectivity')\n",
    "plt.show()"
   ]
  },
  {
   "cell_type": "code",
   "execution_count": null,
   "id": "3281d2af",
   "metadata": {},
   "outputs": [],
   "source": [
    "#Thank You"
   ]
  }
 ],
 "metadata": {
  "kernelspec": {
   "display_name": "Python 3",
   "language": "python",
   "name": "python3"
  },
  "language_info": {
   "codemirror_mode": {
    "name": "ipython",
    "version": 3
   },
   "file_extension": ".py",
   "mimetype": "text/x-python",
   "name": "python",
   "nbconvert_exporter": "python",
   "pygments_lexer": "ipython3",
   "version": "3.9.4"
  }
 },
 "nbformat": 4,
 "nbformat_minor": 5
}
